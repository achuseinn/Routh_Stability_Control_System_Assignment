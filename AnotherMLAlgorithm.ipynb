{
  "cells": [
    {
      "cell_type": "markdown",
      "metadata": {
        "id": "view-in-github",
        "colab_type": "text"
      },
      "source": [
        "<a href=\"https://colab.research.google.com/github/achuseinn/Routh_Stability_Control_System_Assignment/blob/main/AnotherMLAlgorithm.ipynb\" target=\"_parent\"><img src=\"https://colab.research.google.com/assets/colab-badge.svg\" alt=\"Open In Colab\"/></a>"
      ]
    },
    {
      "cell_type": "code",
      "execution_count": null,
      "metadata": {
        "colab": {
          "base_uri": "https://localhost:8080/"
        },
        "id": "BqeVYDPHmUyy",
        "outputId": "a8b2bc41-1ea6-4757-a409-81bb29cc3f1d"
      },
      "outputs": [
        {
          "output_type": "stream",
          "name": "stdout",
          "text": [
            "Drive already mounted at /content/drive; to attempt to forcibly remount, call drive.mount(\"/content/drive\", force_remount=True).\n"
          ]
        }
      ],
      "source": [
        "from google.colab import drive\n",
        "drive.mount('/content/drive')"
      ]
    },
    {
      "cell_type": "code",
      "execution_count": null,
      "metadata": {
        "colab": {
          "base_uri": "https://localhost:8080/"
        },
        "id": "f6RkVdykmcfG",
        "outputId": "c62f9ac4-171c-4d85-af86-963e125288bb"
      },
      "outputs": [
        {
          "output_type": "stream",
          "name": "stdout",
          "text": [
            "[Errno 2] No such file or directory: '/content/drive/MyDrive/Thesis/NIDS_MODEL/vians_model'\n",
            "/content\n"
          ]
        }
      ],
      "source": [
        "cd \"/content/drive/MyDrive/Thesis/NIDS_MODEL/vians_model\""
      ]
    },
    {
      "cell_type": "code",
      "execution_count": null,
      "metadata": {
        "id": "amGonMTKmmgE"
      },
      "outputs": [],
      "source": [
        "import os\n",
        "import numpy as np\n",
        "import pandas as pd\n",
        "import seaborn as sns\n",
        "import matplotlib.pyplot as plt"
      ]
    },
    {
      "cell_type": "markdown",
      "source": [],
      "metadata": {
        "id": "g4meQzXvj9cW"
      }
    },
    {
      "cell_type": "code",
      "execution_count": null,
      "metadata": {
        "id": "fnAjOtUEnJYQ"
      },
      "outputs": [],
      "source": [
        "import itertools\n",
        "from sklearn.metrics import confusion_matrix\n",
        "\n",
        "def plot_confusion_matrix(cm,\n",
        "                          target_names,\n",
        "                          title='Confusion matrix',\n",
        "                          cmap=None,\n",
        "                          normalize=True):\n",
        "  \n",
        "    accuracy = np.trace(cm) / np.sum(cm).astype('float')\n",
        "    misclass = 1 - accuracy\n",
        "\n",
        "    if cmap is None:\n",
        "        cmap = plt.get_cmap('Blues')\n",
        "\n",
        "    plt.figure(figsize=(8*int(np.sqrt(len(target_names))), 6*int(np.sqrt(len(target_names)))))\n",
        "    plt.imshow(cm, interpolation='nearest', cmap=cmap)\n",
        "    plt.rc('font', size=16)\n",
        "    plt.title(title)\n",
        "    plt.colorbar()\n",
        "\n",
        "    if target_names is not None:\n",
        "        tick_marks = np.arange(len(target_names))\n",
        "        plt.xticks(tick_marks, target_names, rotation=-90)\n",
        "        plt.yticks(tick_marks, target_names)\n",
        "\n",
        "    if normalize:\n",
        "        cm = cm.astype('float') / cm.sum(axis=1)[:, np.newaxis]\n",
        "\n",
        "\n",
        "    thresh = cm.max() / 1.5 if normalize else cm.max() / 2\n",
        "    for i, j in itertools.product(range(cm.shape[0]), range(cm.shape[1])):\n",
        "        if normalize:\n",
        "            plt.text(j, i, \"{:0.4f}\".format(cm[i, j]),\n",
        "                     horizontalalignment=\"center\",\n",
        "                     color=\"white\" if cm[i, j] > thresh else \"black\")\n",
        "        else:\n",
        "            plt.text(j, i, \"{:,}\".format(cm[i, j]),\n",
        "                     horizontalalignment=\"center\",\n",
        "                     color=\"white\" if cm[i, j] > thresh else \"black\")\n",
        "\n",
        "\n",
        "    plt.tight_layout()\n",
        "    plt.ylabel('True label')\n",
        "    plt.xlabel('Predicted label\\naccuracy={:0.4f}; misclass={:0.4f}'.format(accuracy, misclass))\n",
        "    plt.show()\n",
        "\n",
        "from gc import freeze\n"
      ]
    },
    {
      "cell_type": "markdown",
      "source": [
        "Kode di atas mendefinisikan sebuah fungsi bernama plot_confusion_matrix untuk memvisualisasikan matriks kebingungan (confusion matrix) dalam bentuk grafik.\n",
        "\n",
        "1. Fungsi plot_confusion_matrix memiliki beberapa argumen sebagai berikut:\n",
        "\n",
        "a. cm: Matriks kebingungan yang akan divisualisasikan.\n",
        "\n",
        "b. target_names: Nama-nama kelas yang akan ditampilkan di sumbu x dan y pada grafik.\n",
        "\n",
        "c. title: Judul untuk grafik matriks kebingungan.\n",
        "\n",
        "d. cmap: Map warna yang digunakan dalam grafik.\n",
        "\n",
        "e. normalize: Menentukan apakah matriks kebingungan akan dinormalisasi atau tidak.\n",
        "\n",
        "2. Fungsi tersebut menghitung akurasi dan tingkat kesalahan klasifikasi berdasarkan matriks kebingungan yang diberikan.\n",
        "\n",
        "3. Grafik matriks kebingungan ditampilkan menggunakan matplotlib. Grafik tersebut menampilkan matriks kebingungan dalam bentuk heatmap dengan warna yang berbeda-beda untuk menggambarkan nilai di setiap sel.\n",
        "\n",
        "4. Jika argumen target_names diberikan, label kelas akan ditampilkan di sumbu x dan y pada grafik.\n",
        "\n",
        "5. Jika normalize bernilai True, matriks kebingungan akan dinormalisasi dengan membagi setiap baris oleh jumlah total prediksi pada baris tersebut.\n",
        "\n",
        "6. Setiap sel pada grafik akan berisi nilai matriks kebingungan yang sesuai. Jika normalize bernilai True, nilai tersebut akan ditampilkan dalam format desimal dengan 4 angka di belakang koma. Jika normalize bernilai False, nilai tersebut akan ditampilkan dalam format bilangan bulat.\n",
        "\n",
        "7. Grafik akan ditampilkan dengan menggunakan fungsi plt.show() dari matplotlib setelah pengaturan tampilan dan label yang sesuai.\n",
        "\n",
        "8. Selain fungsi plot_confusion_matrix, kode juga mengimpor modul itertools dan kelas confusion_matrix dari modul metrics dalam library scikit-learn.\n",
        "\n",
        "9. Terakhir, freeze dari modul gc diimpor, tetapi tidak digunakan dalam kode ini.\n",
        "\n",
        "Fungsi plot_confusion_matrix dapat digunakan untuk memvisualisasikan matriks kebingungan dan melihat distribusi prediksi yang dilakukan oleh model klasifikasi."
      ],
      "metadata": {
        "id": "DyaHPhiDpyS6"
      }
    },
    {
      "cell_type": "code",
      "execution_count": null,
      "metadata": {
        "id": "oWHASjTanNoV"
      },
      "outputs": [],
      "source": [
        "filename = '/content/datasample_multiclass_v4.csv' \n",
        "#load data from datasampe_multiclass_v4.csv"
      ]
    },
    {
      "cell_type": "code",
      "execution_count": null,
      "metadata": {
        "colab": {
          "base_uri": "https://localhost:8080/"
        },
        "id": "vIYxqkajnfW_",
        "outputId": "302494ae-dd97-45bd-e614-859b51edd426"
      },
      "outputs": [
        {
          "output_type": "stream",
          "name": "stderr",
          "text": [
            "<ipython-input-4-7fd5fa5d53ea>:18: FutureWarning: In a future version of pandas all arguments of DataFrame.drop except for the argument 'labels' will be keyword-only.\n",
            "  X, y = df.drop(['Label'],1), df.Label\n"
          ]
        }
      ],
      "source": [
        "# Load data\n",
        "df = pd.read_csv(filename)\n",
        "\n",
        "# Feature engineering\n",
        "df['Dst Port'].value_counts()[:20]\n",
        "common_port = [8080,80,21,53,443,3389,445,22,500,0]\n",
        "df['Dst Port'] = list(map(lambda x: 10000 if x not in common_port else x, df['Dst Port']))\n",
        "\n",
        "# Label encode\n",
        "from sklearn.preprocessing import LabelEncoder\n",
        "encoder = LabelEncoder() \n",
        "df['Label'] = encoder.fit_transform(df['Label'])\n",
        "\n",
        "# Check nan values\n",
        "df.isna().sum().sum()\n",
        "\n",
        "# Get features\n",
        "X, y = df.drop(['Label'],1), df.Label\n",
        "\n",
        "# Train test validation split\n",
        "from sklearn.model_selection import train_test_split\n",
        "X_train, X_test, y_train, y_test = train_test_split(X, y, test_size=0.3, random_state=42, stratify=y)\n",
        "X_train, X_valid, y_train, y_valid = train_test_split(X_train, y_train, test_size=0.2, random_state=42, stratify=y_train)"
      ]
    },
    {
      "cell_type": "markdown",
      "source": [
        "Kode di atas adalah serangkaian langkah-langkah untuk memuat data, melakukan rekayasa fitur, mengodekan label, memeriksa nilai NaN, dan membagi data menjadi set pelatihan, pengujian, dan validasi. Berikut adalah penjelasan langkah-langkahnya:\n",
        "\n",
        "1. df = pd.read_csv(filename): Baris ini digunakan untuk memuat data dari file CSV ke dalam sebuah dataframe dengan menggunakan library pandas. filename adalah nama file yang akan dibaca.\n",
        "\n",
        "2. df['Dst Port'].value_counts()[:20]: Baris ini menghitung frekuensi nilai unik dalam kolom 'Dst Port' dan menampilkan 20 nilai yang paling umum muncul. Tujuan dari langkah ini adalah untuk melihat distribusi nilai dalam kolom tersebut.\n",
        "\n",
        "3. common_port = [8080,80,21,53,443,3389,445,22,500,0]: Sebuah list common_port dibuat dengan menyertakan 10 nilai yang umum dalam kolom 'Dst Port'.\n",
        "\n",
        "4. df['Dst Port'] = list(map(lambda x: 10000 if x not in common_port else x, df['Dst Port'])): Baris ini mengganti nilai dalam kolom 'Dst Port' dengan 10000 jika nilai tersebut tidak ada dalam common_port. Fungsi map digunakan untuk menerapkan lambda function yang melakukan perubahan nilai pada setiap elemen kolom 'Dst Port'.\n",
        "\n",
        "5. from sklearn.preprocessing import LabelEncoder: Kode ini mengimpor kelas LabelEncoder dari modul preprocessing dalam library scikit-learn. Kelas ini akan digunakan untuk mengodekan label dalam kolom 'Label' menjadi angka.\n",
        "\n",
        "6. encoder = LabelEncoder(): Objek encoder dari kelas LabelEncoder dibuat.\n",
        "\n",
        "7. df['Label'] = encoder.fit_transform(df['Label']): Kolom 'Label' dalam dataframe diubah nilainya menggunakan metode fit_transform dari objek encoder. Metode ini akan mengodekan nilai-nilai label menjadi angka-angka.\n",
        "\n",
        "8. df.isna().sum().sum(): Baris ini menghitung jumlah nilai NaN dalam dataframe df dengan menggunakan metode isna() yang menghasilkan matriks boolean dan sum() untuk menjumlahkan nilai True. sum().sum() digunakan untuk menjumlahkan nilai-nilai tersebut. Tujuannya adalah untuk memeriksa apakah terdapat nilai NaN dalam dataframe.\n",
        "\n",
        "9. X, y = df.drop(['Label'],1), df.Label: Baris ini memisahkan dataframe menjadi dua bagian: X yang berisi fitur-fitur (semua kolom kecuali 'Label') dan y yang berisi label (kolom 'Label').\n",
        "\n",
        "10. from sklearn.model_selection import train_test_split: Kode ini mengimpor fungsi train_test_split dari modul model_selection dalam library scikit-learn. Fungsi ini akan digunakan untuk membagi data menjadi set pelatihan, pengujian, dan validasi.\n",
        "\n",
        "11. X_train, X_test, y_train, y_test = train_test_split(X, y, test_size=0.3, random_state=42, stratify=y): Data X dan y dibagi menjadi set pelatihan dan pengujian dengan perbandingan 70:30. Argumen test_size menentukan ukuran set pengujian (30% dari total data), random_state dig"
      ],
      "metadata": {
        "id": "t6vtBgE_eTWj"
      }
    },
    {
      "cell_type": "markdown",
      "metadata": {
        "id": "pqKoM6_Ro_r0"
      },
      "source": [
        "# KNN"
      ]
    },
    {
      "cell_type": "code",
      "execution_count": null,
      "metadata": {
        "colab": {
          "base_uri": "https://localhost:8080/",
          "height": 109
        },
        "id": "d3tkp4tsnzva",
        "outputId": "d6a564d5-4fd9-42a3-f9d9-028b90d86c96"
      },
      "outputs": [
        {
          "output_type": "stream",
          "name": "stdout",
          "text": [
            "CPU times: user 73 ms, sys: 15.8 ms, total: 88.9 ms\n",
            "Wall time: 92.6 ms\n"
          ]
        },
        {
          "output_type": "execute_result",
          "data": {
            "text/plain": [
              "KNeighborsClassifier()"
            ],
            "text/html": [
              "<style>#sk-container-id-1 {color: black;background-color: white;}#sk-container-id-1 pre{padding: 0;}#sk-container-id-1 div.sk-toggleable {background-color: white;}#sk-container-id-1 label.sk-toggleable__label {cursor: pointer;display: block;width: 100%;margin-bottom: 0;padding: 0.3em;box-sizing: border-box;text-align: center;}#sk-container-id-1 label.sk-toggleable__label-arrow:before {content: \"▸\";float: left;margin-right: 0.25em;color: #696969;}#sk-container-id-1 label.sk-toggleable__label-arrow:hover:before {color: black;}#sk-container-id-1 div.sk-estimator:hover label.sk-toggleable__label-arrow:before {color: black;}#sk-container-id-1 div.sk-toggleable__content {max-height: 0;max-width: 0;overflow: hidden;text-align: left;background-color: #f0f8ff;}#sk-container-id-1 div.sk-toggleable__content pre {margin: 0.2em;color: black;border-radius: 0.25em;background-color: #f0f8ff;}#sk-container-id-1 input.sk-toggleable__control:checked~div.sk-toggleable__content {max-height: 200px;max-width: 100%;overflow: auto;}#sk-container-id-1 input.sk-toggleable__control:checked~label.sk-toggleable__label-arrow:before {content: \"▾\";}#sk-container-id-1 div.sk-estimator input.sk-toggleable__control:checked~label.sk-toggleable__label {background-color: #d4ebff;}#sk-container-id-1 div.sk-label input.sk-toggleable__control:checked~label.sk-toggleable__label {background-color: #d4ebff;}#sk-container-id-1 input.sk-hidden--visually {border: 0;clip: rect(1px 1px 1px 1px);clip: rect(1px, 1px, 1px, 1px);height: 1px;margin: -1px;overflow: hidden;padding: 0;position: absolute;width: 1px;}#sk-container-id-1 div.sk-estimator {font-family: monospace;background-color: #f0f8ff;border: 1px dotted black;border-radius: 0.25em;box-sizing: border-box;margin-bottom: 0.5em;}#sk-container-id-1 div.sk-estimator:hover {background-color: #d4ebff;}#sk-container-id-1 div.sk-parallel-item::after {content: \"\";width: 100%;border-bottom: 1px solid gray;flex-grow: 1;}#sk-container-id-1 div.sk-label:hover label.sk-toggleable__label {background-color: #d4ebff;}#sk-container-id-1 div.sk-serial::before {content: \"\";position: absolute;border-left: 1px solid gray;box-sizing: border-box;top: 0;bottom: 0;left: 50%;z-index: 0;}#sk-container-id-1 div.sk-serial {display: flex;flex-direction: column;align-items: center;background-color: white;padding-right: 0.2em;padding-left: 0.2em;position: relative;}#sk-container-id-1 div.sk-item {position: relative;z-index: 1;}#sk-container-id-1 div.sk-parallel {display: flex;align-items: stretch;justify-content: center;background-color: white;position: relative;}#sk-container-id-1 div.sk-item::before, #sk-container-id-1 div.sk-parallel-item::before {content: \"\";position: absolute;border-left: 1px solid gray;box-sizing: border-box;top: 0;bottom: 0;left: 50%;z-index: -1;}#sk-container-id-1 div.sk-parallel-item {display: flex;flex-direction: column;z-index: 1;position: relative;background-color: white;}#sk-container-id-1 div.sk-parallel-item:first-child::after {align-self: flex-end;width: 50%;}#sk-container-id-1 div.sk-parallel-item:last-child::after {align-self: flex-start;width: 50%;}#sk-container-id-1 div.sk-parallel-item:only-child::after {width: 0;}#sk-container-id-1 div.sk-dashed-wrapped {border: 1px dashed gray;margin: 0 0.4em 0.5em 0.4em;box-sizing: border-box;padding-bottom: 0.4em;background-color: white;}#sk-container-id-1 div.sk-label label {font-family: monospace;font-weight: bold;display: inline-block;line-height: 1.2em;}#sk-container-id-1 div.sk-label-container {text-align: center;}#sk-container-id-1 div.sk-container {/* jupyter's `normalize.less` sets `[hidden] { display: none; }` but bootstrap.min.css set `[hidden] { display: none !important; }` so we also need the `!important` here to be able to override the default hidden behavior on the sphinx rendered scikit-learn.org. See: https://github.com/scikit-learn/scikit-learn/issues/21755 */display: inline-block !important;position: relative;}#sk-container-id-1 div.sk-text-repr-fallback {display: none;}</style><div id=\"sk-container-id-1\" class=\"sk-top-container\"><div class=\"sk-text-repr-fallback\"><pre>KNeighborsClassifier()</pre><b>In a Jupyter environment, please rerun this cell to show the HTML representation or trust the notebook. <br />On GitHub, the HTML representation is unable to render, please try loading this page with nbviewer.org.</b></div><div class=\"sk-container\" hidden><div class=\"sk-item\"><div class=\"sk-estimator sk-toggleable\"><input class=\"sk-toggleable__control sk-hidden--visually\" id=\"sk-estimator-id-1\" type=\"checkbox\" checked><label for=\"sk-estimator-id-1\" class=\"sk-toggleable__label sk-toggleable__label-arrow\">KNeighborsClassifier</label><div class=\"sk-toggleable__content\"><pre>KNeighborsClassifier()</pre></div></div></div></div></div>"
            ]
          },
          "metadata": {},
          "execution_count": 6
        }
      ],
      "source": [
        "%%time\n",
        "from sklearn.neighbors import KNeighborsClassifier\n",
        "clf = KNeighborsClassifier()\n",
        "clf.fit(X_train, y_train)\n"
      ]
    },
    {
      "cell_type": "markdown",
      "source": [
        "\n",
        "Kode di atas menggunakan library scikit-learn (sklearn) untuk mengimport kelas KNeighborsClassifier dari modul neighbors. Kemudian, sebuah objek classifier (clf) dari kelas KNeighborsClassifier dibuat.\n",
        "\n",
        "Selanjutnya, clf.fit(X_train, y_train) digunakan untuk melatih model klasifikasi K-Nearest Neighbors (KNN) menggunakan data pelatihan:\n",
        "\n",
        "1. X_train adalah matriks fitur yang berisi data pelatihan, \n",
        "2. y_train adalah array target yang berisi label atau kelas yang sesuai dengan setiap sampel dalam X_train. \n",
        "3. Metode fit() digunakan untuk mempelajari pola dari data pelatihan dan menghasilkan model yang dapat digunakan untuk melakukan prediksi.\n",
        "\n",
        "Dengan menggunakan model yang telah dilatih ini, Anda dapat melakukan prediksi pada data baru dengan menggunakan metode predict() yang tersedia pada objek clf."
      ],
      "metadata": {
        "id": "cbUWo50nj-96"
      }
    },
    {
      "cell_type": "code",
      "execution_count": null,
      "metadata": {
        "colab": {
          "base_uri": "https://localhost:8080/"
        },
        "id": "VHBWq4Wk2179",
        "outputId": "5d37cb7c-667f-457e-810a-423784d3cbbe"
      },
      "outputs": [
        {
          "output_type": "stream",
          "name": "stdout",
          "text": [
            "                        precision    recall  f1-score   support\n",
            "\n",
            "                Benign       0.97      0.95      0.96      3000\n",
            "                   Bot       1.00      1.00      1.00      3000\n",
            "      Brute Force -Web       0.74      0.82      0.78       184\n",
            "      Brute Force -XSS       0.72      0.64      0.68        69\n",
            "      DDOS attack-HOIC       1.00      1.00      1.00      3000\n",
            "  DDOS attack-LOIC-UDP       0.99      1.00      1.00       519\n",
            "DDoS attacks-LOIC-HTTP       0.97      0.96      0.96      3000\n",
            " DoS attacks-GoldenEye       0.96      0.97      0.96      3000\n",
            "      DoS attacks-Hulk       0.98      0.99      0.98      3000\n",
            " DoS attacks-Slowloris       0.99      0.99      0.99      3000\n",
            "        FTP-BruteForce       1.00      1.00      1.00      3000\n",
            "         SQL Injection       0.69      0.42      0.52        26\n",
            "        SSH-Bruteforce       1.00      1.00      1.00      3000\n",
            "\n",
            "              accuracy                           0.98     27798\n",
            "             macro avg       0.92      0.90      0.91     27798\n",
            "          weighted avg       0.98      0.98      0.98     27798\n",
            "\n",
            "CPU times: user 24.2 s, sys: 62.6 ms, total: 24.2 s\n",
            "Wall time: 19 s\n"
          ]
        }
      ],
      "source": [
        "%%time\n",
        "y_pred = clf.predict(X_test)\n",
        "from sklearn.metrics import classification_report\n",
        "target_names = encoder.inverse_transform(np.arange(df['Label'].value_counts().shape[0]))\n",
        "report = classification_report(y_test, y_pred,target_names=target_names)\n",
        "print(report)"
      ]
    },
    {
      "cell_type": "markdown",
      "source": [
        "Kode di atas menggambarkan langkah-langkah untuk melakukan prediksi menggunakan model klasifikasi yang telah dilatih (clf) dan melaporkan hasil klasifikasi.\n",
        "\n",
        "1. y_pred = clf.predict(X_test): Dalam baris ini, prediksi dilakukan pada data uji (X_test) menggunakan metode predict() dari objek clf. Hasil prediksi disimpan dalam variabel y_pred.\n",
        "\n",
        "2. from sklearn.metrics import classification_report: Baris ini mengimpor fungsi classification_report dari modul metrics dalam library scikit-learn. Fungsi ini akan digunakan untuk menghasilkan laporan evaluasi klasifikasi.\n",
        "\n",
        "3. target_names = encoder.inverse_transform(np.arange(df['Label'].value_counts().shape[0])): Dalam baris ini, target_names dibuat untuk digunakan dalam laporan klasifikasi. encoder.inverse_transform() digunakan untuk mengonversi indeks numerik kelas kembali menjadi label asli mereka. np.arange(df['Label'].value_counts().shape[0]) menghasilkan array berurutan dari angka mulai dari 0 hingga jumlah kelas yang ada dalam kolom 'Label' dari dataframe df.\n",
        "\n",
        "4. report = classification_report(y_test, y_pred, target_names=target_names): Pada baris ini, fungsi classification_report dipanggil dengan memberikan argumen y_test (kelas sebenarnya dari data uji) dan y_pred (prediksi yang dihasilkan oleh model). target_names diberikan sebagai argumen untuk memberikan label yang tepat untuk setiap kelas dalam laporan.\n",
        "\n",
        "5. print(report): Baris ini mencetak laporan evaluasi klasifikasi ke layar. Laporan tersebut mencakup metrik seperti presisi (precision), recall, f1-score, dan support untuk setiap kelas dalam target_names. Laporan ini memberikan informasi tentang performa model klasifikasi dalam memprediksi setiap kelas secara individu dan secara keseluruhan.\n"
      ],
      "metadata": {
        "id": "P-TyAC-dmsYV"
      }
    },
    {
      "cell_type": "markdown",
      "metadata": {
        "id": "HhD_rujVpE-M"
      },
      "source": [
        "# SVM"
      ]
    },
    {
      "cell_type": "code",
      "execution_count": null,
      "metadata": {
        "id": "i7AmNZNqpG-p"
      },
      "outputs": [],
      "source": [
        "%%time\n",
        "from sklearn.svm import SVC\n",
        "clf = SVC()\n",
        "clf.fit(X_train, y_train)\n"
      ]
    },
    {
      "cell_type": "code",
      "execution_count": null,
      "metadata": {
        "id": "jXEf-uFG24YT"
      },
      "outputs": [],
      "source": [
        "%%time\n",
        "y_pred = clf.predict(X_test)\n",
        "from sklearn.metrics import classification_report\n",
        "target_names = encoder.inverse_transform(np.arange(df['Label'].value_counts().shape[0]))\n",
        "report = classification_report(y_test, y_pred,target_names=target_names)\n",
        "print(report)"
      ]
    },
    {
      "cell_type": "markdown",
      "metadata": {
        "id": "HqYIXjfnslgr"
      },
      "source": [
        "# MLP"
      ]
    },
    {
      "cell_type": "code",
      "execution_count": null,
      "metadata": {
        "colab": {
          "base_uri": "https://localhost:8080/",
          "height": 109
        },
        "id": "2yAiNs7SsoBq",
        "outputId": "85a6b2c1-b086-408a-dc61-05df95514e75"
      },
      "outputs": [
        {
          "output_type": "stream",
          "name": "stdout",
          "text": [
            "CPU times: user 44.7 s, sys: 28.8 s, total: 1min 13s\n",
            "Wall time: 45.4 s\n"
          ]
        },
        {
          "output_type": "execute_result",
          "data": {
            "text/plain": [
              "MLPClassifier()"
            ],
            "text/html": [
              "<style>#sk-container-id-2 {color: black;background-color: white;}#sk-container-id-2 pre{padding: 0;}#sk-container-id-2 div.sk-toggleable {background-color: white;}#sk-container-id-2 label.sk-toggleable__label {cursor: pointer;display: block;width: 100%;margin-bottom: 0;padding: 0.3em;box-sizing: border-box;text-align: center;}#sk-container-id-2 label.sk-toggleable__label-arrow:before {content: \"▸\";float: left;margin-right: 0.25em;color: #696969;}#sk-container-id-2 label.sk-toggleable__label-arrow:hover:before {color: black;}#sk-container-id-2 div.sk-estimator:hover label.sk-toggleable__label-arrow:before {color: black;}#sk-container-id-2 div.sk-toggleable__content {max-height: 0;max-width: 0;overflow: hidden;text-align: left;background-color: #f0f8ff;}#sk-container-id-2 div.sk-toggleable__content pre {margin: 0.2em;color: black;border-radius: 0.25em;background-color: #f0f8ff;}#sk-container-id-2 input.sk-toggleable__control:checked~div.sk-toggleable__content {max-height: 200px;max-width: 100%;overflow: auto;}#sk-container-id-2 input.sk-toggleable__control:checked~label.sk-toggleable__label-arrow:before {content: \"▾\";}#sk-container-id-2 div.sk-estimator input.sk-toggleable__control:checked~label.sk-toggleable__label {background-color: #d4ebff;}#sk-container-id-2 div.sk-label input.sk-toggleable__control:checked~label.sk-toggleable__label {background-color: #d4ebff;}#sk-container-id-2 input.sk-hidden--visually {border: 0;clip: rect(1px 1px 1px 1px);clip: rect(1px, 1px, 1px, 1px);height: 1px;margin: -1px;overflow: hidden;padding: 0;position: absolute;width: 1px;}#sk-container-id-2 div.sk-estimator {font-family: monospace;background-color: #f0f8ff;border: 1px dotted black;border-radius: 0.25em;box-sizing: border-box;margin-bottom: 0.5em;}#sk-container-id-2 div.sk-estimator:hover {background-color: #d4ebff;}#sk-container-id-2 div.sk-parallel-item::after {content: \"\";width: 100%;border-bottom: 1px solid gray;flex-grow: 1;}#sk-container-id-2 div.sk-label:hover label.sk-toggleable__label {background-color: #d4ebff;}#sk-container-id-2 div.sk-serial::before {content: \"\";position: absolute;border-left: 1px solid gray;box-sizing: border-box;top: 0;bottom: 0;left: 50%;z-index: 0;}#sk-container-id-2 div.sk-serial {display: flex;flex-direction: column;align-items: center;background-color: white;padding-right: 0.2em;padding-left: 0.2em;position: relative;}#sk-container-id-2 div.sk-item {position: relative;z-index: 1;}#sk-container-id-2 div.sk-parallel {display: flex;align-items: stretch;justify-content: center;background-color: white;position: relative;}#sk-container-id-2 div.sk-item::before, #sk-container-id-2 div.sk-parallel-item::before {content: \"\";position: absolute;border-left: 1px solid gray;box-sizing: border-box;top: 0;bottom: 0;left: 50%;z-index: -1;}#sk-container-id-2 div.sk-parallel-item {display: flex;flex-direction: column;z-index: 1;position: relative;background-color: white;}#sk-container-id-2 div.sk-parallel-item:first-child::after {align-self: flex-end;width: 50%;}#sk-container-id-2 div.sk-parallel-item:last-child::after {align-self: flex-start;width: 50%;}#sk-container-id-2 div.sk-parallel-item:only-child::after {width: 0;}#sk-container-id-2 div.sk-dashed-wrapped {border: 1px dashed gray;margin: 0 0.4em 0.5em 0.4em;box-sizing: border-box;padding-bottom: 0.4em;background-color: white;}#sk-container-id-2 div.sk-label label {font-family: monospace;font-weight: bold;display: inline-block;line-height: 1.2em;}#sk-container-id-2 div.sk-label-container {text-align: center;}#sk-container-id-2 div.sk-container {/* jupyter's `normalize.less` sets `[hidden] { display: none; }` but bootstrap.min.css set `[hidden] { display: none !important; }` so we also need the `!important` here to be able to override the default hidden behavior on the sphinx rendered scikit-learn.org. See: https://github.com/scikit-learn/scikit-learn/issues/21755 */display: inline-block !important;position: relative;}#sk-container-id-2 div.sk-text-repr-fallback {display: none;}</style><div id=\"sk-container-id-2\" class=\"sk-top-container\"><div class=\"sk-text-repr-fallback\"><pre>MLPClassifier()</pre><b>In a Jupyter environment, please rerun this cell to show the HTML representation or trust the notebook. <br />On GitHub, the HTML representation is unable to render, please try loading this page with nbviewer.org.</b></div><div class=\"sk-container\" hidden><div class=\"sk-item\"><div class=\"sk-estimator sk-toggleable\"><input class=\"sk-toggleable__control sk-hidden--visually\" id=\"sk-estimator-id-2\" type=\"checkbox\" checked><label for=\"sk-estimator-id-2\" class=\"sk-toggleable__label sk-toggleable__label-arrow\">MLPClassifier</label><div class=\"sk-toggleable__content\"><pre>MLPClassifier()</pre></div></div></div></div></div>"
            ]
          },
          "metadata": {},
          "execution_count": 8
        }
      ],
      "source": [
        "%%time\n",
        "from sklearn.neural_network import MLPClassifier\n",
        "clf = MLPClassifier()\n",
        "clf.fit(X_train, y_train)\n"
      ]
    },
    {
      "cell_type": "code",
      "execution_count": null,
      "metadata": {
        "colab": {
          "base_uri": "https://localhost:8080/"
        },
        "id": "Ltqa-BwS27Cz",
        "outputId": "d81f9d28-fea2-44b5-dd2b-30ba4737332b"
      },
      "outputs": [
        {
          "name": "stdout",
          "output_type": "stream",
          "text": [
            "                        precision    recall  f1-score   support\n",
            "\n",
            "                Benign       0.56      0.91      0.70      2000\n",
            "                   Bot       0.99      1.00      1.00      2000\n",
            "      Brute Force -Web       0.70      0.57      0.62       122\n",
            "      Brute Force -XSS       0.27      0.54      0.36        46\n",
            "      DDOS attack-HOIC       0.99      1.00      1.00      2000\n",
            "  DDOS attack-LOIC-UDP       1.00      1.00      1.00       346\n",
            "DDoS attacks-LOIC-HTTP       0.98      0.49      0.65      2000\n",
            " DoS attacks-GoldenEye       0.96      0.83      0.89      2000\n",
            "      DoS attacks-Hulk       0.98      0.90      0.94      2000\n",
            " DoS attacks-Slowloris       0.91      0.98      0.94      2000\n",
            "        FTP-BruteForce       1.00      0.99      1.00      2000\n",
            "         SQL Injection       0.83      0.28      0.42        18\n",
            "        SSH-Bruteforce       1.00      1.00      1.00      2000\n",
            "\n",
            "              accuracy                           0.90     18532\n",
            "             macro avg       0.86      0.81      0.81     18532\n",
            "          weighted avg       0.93      0.90      0.90     18532\n",
            "\n",
            "CPU times: user 155 ms, sys: 129 ms, total: 284 ms\n",
            "Wall time: 151 ms\n"
          ]
        }
      ],
      "source": [
        "%%time\n",
        "y_pred = clf.predict(X_test)\n",
        "from sklearn.metrics import classification_report\n",
        "target_names = encoder.inverse_transform(np.arange(df['Label'].value_counts().shape[0]))\n",
        "report = classification_report(y_test, y_pred,target_names=target_names)\n",
        "print(report)"
      ]
    },
    {
      "cell_type": "markdown",
      "metadata": {
        "id": "WAXt605h0xV2"
      },
      "source": [
        "# DT"
      ]
    },
    {
      "cell_type": "code",
      "execution_count": null,
      "metadata": {
        "colab": {
          "base_uri": "https://localhost:8080/"
        },
        "id": "AMET0wBh0zlw",
        "outputId": "9abeeab2-34e3-47c7-a959-37a0ffad9632"
      },
      "outputs": [
        {
          "name": "stdout",
          "output_type": "stream",
          "text": [
            "CPU times: user 1.2 s, sys: 11.5 ms, total: 1.21 s\n",
            "Wall time: 1.22 s\n"
          ]
        },
        {
          "data": {
            "text/plain": [
              "DecisionTreeClassifier()"
            ]
          },
          "execution_count": 18,
          "metadata": {},
          "output_type": "execute_result"
        }
      ],
      "source": [
        "%%time\n",
        "from sklearn.tree import DecisionTreeClassifier\n",
        "clf = DecisionTreeClassifier()\n",
        "clf.fit(X_train, y_train)\n"
      ]
    },
    {
      "cell_type": "code",
      "execution_count": null,
      "metadata": {
        "colab": {
          "base_uri": "https://localhost:8080/"
        },
        "id": "HYiSCYoG2-Gp",
        "outputId": "b94f1b57-bb46-4357-d9a9-e899ae8b8b5a"
      },
      "outputs": [
        {
          "name": "stdout",
          "output_type": "stream",
          "text": [
            "                        precision    recall  f1-score   support\n",
            "\n",
            "                Benign       1.00      0.99      1.00      2000\n",
            "                   Bot       1.00      1.00      1.00      2000\n",
            "      Brute Force -Web       0.93      0.94      0.93       122\n",
            "      Brute Force -XSS       0.90      0.98      0.94        46\n",
            "      DDOS attack-HOIC       1.00      1.00      1.00      2000\n",
            "  DDOS attack-LOIC-UDP       1.00      1.00      1.00       346\n",
            "DDoS attacks-LOIC-HTTP       1.00      1.00      1.00      2000\n",
            " DoS attacks-GoldenEye       1.00      1.00      1.00      2000\n",
            "      DoS attacks-Hulk       1.00      1.00      1.00      2000\n",
            " DoS attacks-Slowloris       1.00      1.00      1.00      2000\n",
            "        FTP-BruteForce       1.00      1.00      1.00      2000\n",
            "         SQL Injection       0.75      0.67      0.71        18\n",
            "        SSH-Bruteforce       1.00      1.00      1.00      2000\n",
            "\n",
            "              accuracy                           1.00     18532\n",
            "             macro avg       0.97      0.97      0.97     18532\n",
            "          weighted avg       1.00      1.00      1.00     18532\n",
            "\n",
            "CPU times: user 69.5 ms, sys: 7.87 ms, total: 77.3 ms\n",
            "Wall time: 75.9 ms\n"
          ]
        }
      ],
      "source": [
        "%%time\n",
        "y_pred = clf.predict(X_test)\n",
        "from sklearn.metrics import classification_report\n",
        "target_names = encoder.inverse_transform(np.arange(df['Label'].value_counts().shape[0]))\n",
        "report = classification_report(y_test, y_pred,target_names=target_names)\n",
        "print(report)"
      ]
    }
  ],
  "metadata": {
    "colab": {
      "provenance": [],
      "include_colab_link": true
    },
    "kernelspec": {
      "display_name": "Python 3",
      "name": "python3"
    },
    "language_info": {
      "codemirror_mode": {
        "name": "ipython",
        "version": 3
      },
      "file_extension": ".py",
      "mimetype": "text/x-python",
      "name": "python",
      "nbconvert_exporter": "python",
      "pygments_lexer": "ipython3",
      "version": "3.9.12"
    }
  },
  "nbformat": 4,
  "nbformat_minor": 0
}